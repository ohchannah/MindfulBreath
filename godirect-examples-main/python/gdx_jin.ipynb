{
 "cells": [
  {
   "cell_type": "code",
   "execution_count": 1,
   "metadata": {},
   "outputs": [],
   "source": [
    "from gdx import gdx\n",
    "\n",
    "gdx = gdx.gdx()\n",
    "gdx.open(connection=\"usb\")"
   ]
  },
  {
   "cell_type": "code",
   "execution_count": 2,
   "metadata": {},
   "outputs": [
    {
     "name": "stdout",
     "output_type": "stream",
     "text": [
      "Devices Found: [<godirect.device_usb.GoDirectDeviceUSB object at 0x0000027B3693A510>]\n"
     ]
    }
   ],
   "source": [
    "from godirect import GoDirect\n",
    "\n",
    "gdx = GoDirect(use_ble=False)  # USB 모드\n",
    "\n",
    "# 디바이스 리스트 확인\n",
    "devices = gdx.list_devices()\n",
    "print(\"Devices Found:\", devices)"
   ]
  },
  {
   "cell_type": "code",
   "execution_count": 3,
   "metadata": {},
   "outputs": [
    {
     "name": "stdout",
     "output_type": "stream",
     "text": [
      "Device connected: Go Direct Sensor USB \n"
     ]
    }
   ],
   "source": [
    "if not devices:\n",
    "    print(\"No devices detected. Check USB connection and drivers.\")\n",
    "else:\n",
    "    print(\"Device connected:\", devices[0])"
   ]
  },
  {
   "cell_type": "code",
   "execution_count": 12,
   "metadata": {},
   "outputs": [
    {
     "name": "stdout",
     "output_type": "stream",
     "text": [
      "\n",
      "\n"
     ]
    },
    {
     "ename": "AttributeError",
     "evalue": "'GoDirect' object has no attribute 'device_info'",
     "output_type": "error",
     "traceback": [
      "\u001b[1;31m---------------------------------------------------------------------------\u001b[0m",
      "\u001b[1;31mAttributeError\u001b[0m                            Traceback (most recent call last)",
      "Cell \u001b[1;32mIn[12], line 6\u001b[0m\n\u001b[0;32m      1\u001b[0m \u001b[38;5;28mprint\u001b[39m(\u001b[38;5;124m'\u001b[39m\u001b[38;5;130;01m\\n\u001b[39;00m\u001b[38;5;124m'\u001b[39m)\n\u001b[0;32m      2\u001b[0m \u001b[38;5;28minput\u001b[39m(\u001b[38;5;124m\"\u001b[39m\u001b[38;5;124mDevice information (it\u001b[39m\u001b[38;5;124m'\u001b[39m\u001b[38;5;124ms especialy important to know the \u001b[39m\u001b[38;5;124m'\u001b[39m\u001b[38;5;124mdevice name\u001b[39m\u001b[38;5;124m'\u001b[39m\u001b[38;5;124m \u001b[39m\u001b[38;5;130;01m\\n\u001b[39;00m\u001b[38;5;124m \u001b[39m\u001b[38;5;130;01m\\\u001b[39;00m\n\u001b[0;32m      3\u001b[0m \u001b[38;5;124mas it is used in other examples as an argument in the gdx.open() function. Be \u001b[39m\u001b[38;5;130;01m\\n\u001b[39;00m\u001b[38;5;124m \u001b[39m\u001b[38;5;130;01m\\\u001b[39;00m\n\u001b[0;32m      4\u001b[0m \u001b[38;5;124msure to take note of the \u001b[39m\u001b[38;5;124m'\u001b[39m\u001b[38;5;124mdevice name\u001b[39m\u001b[38;5;124m'\u001b[39m\u001b[38;5;124m) \u001b[39m\u001b[38;5;130;01m\\n\u001b[39;00m\u001b[38;5;124m \u001b[39m\u001b[38;5;130;01m\\\u001b[39;00m\n\u001b[0;32m      5\u001b[0m \u001b[38;5;124m   - Press \u001b[39m\u001b[38;5;124m'\u001b[39m\u001b[38;5;124menter\u001b[39m\u001b[38;5;124m'\u001b[39m\u001b[38;5;124m \u001b[39m\u001b[38;5;130;01m\\n\u001b[39;00m\u001b[38;5;124m \u001b[39m\u001b[38;5;124m\"\u001b[39m)\n\u001b[1;32m----> 6\u001b[0m device_info \u001b[38;5;241m=\u001b[39m \u001b[43mgdx\u001b[49m\u001b[38;5;241;43m.\u001b[39;49m\u001b[43mdevice_info\u001b[49m() \n\u001b[0;32m      7\u001b[0m device_name \u001b[38;5;241m=\u001b[39m device_info[\u001b[38;5;241m0\u001b[39m]\n\u001b[0;32m      8\u001b[0m device_description \u001b[38;5;241m=\u001b[39m device_info[\u001b[38;5;241m1\u001b[39m]  \n",
      "\u001b[1;31mAttributeError\u001b[0m: 'GoDirect' object has no attribute 'device_info'"
     ]
    }
   ],
   "source": [
    "print(\"\\n\")\n",
    "input(\n",
    "    \"Device information (it's especialy important to know the 'device name' \\n \\\n",
    "as it is used in other examples as an argument in the gdx.open() function. Be \\n \\\n",
    "sure to take note of the 'device name') \\n \\\n",
    "   - Press 'enter' \\n \"\n",
    ")\n",
    "device_info = gdx.device_info()\n",
    "device_name = device_info[0]\n",
    "device_description = device_info[1]\n",
    "battery = device_info[2]\n",
    "charger_state = device_info[3]\n",
    "rssi = device_info[4]\n",
    "print(\"device name = \", device_name)\n",
    "print(\"device description = \", device_description)\n",
    "print(\"battery charge % = \", battery)\n",
    "print(\"charging state of the battery = \", charger_state)\n",
    "print(\"rssi (bluetooth signal) = \", rssi)\n",
    "print(\"\\n\")"
   ]
  },
  {
   "cell_type": "code",
   "execution_count": 55,
   "metadata": {},
   "outputs": [
    {
     "name": "stdout",
     "output_type": "stream",
     "text": [
      "sensor number =  1\n",
      "sensor description =  Force\n",
      "sensor units =  N\n",
      "incompatible sensors =  []\n",
      "\n",
      "sensor number =  2\n",
      "sensor description =  Respiration Rate\n",
      "sensor units =  bpm\n",
      "incompatible sensors =  []\n",
      "\n",
      "sensor number =  4\n",
      "sensor description =  Steps\n",
      "sensor units =  steps\n",
      "incompatible sensors =  []\n",
      "\n",
      "sensor number =  5\n",
      "sensor description =  Step Rate\n",
      "sensor units =  spm\n",
      "incompatible sensors =  []\n",
      "\n"
     ]
    }
   ],
   "source": [
    "input(\n",
    "    \"Sensor information (it's especialy important to know the 'sensor number' \\n \\\n",
    "as you will use that in python code to specify which sensor to read. Be \\n \\\n",
    "sure to take note of the sensor number or numbers) \\n \\\n",
    "   - Press 'enter' \\n \"\n",
    ")\n",
    "sensor_info = gdx.sensor_info()\n",
    "for info in sensor_info:\n",
    "    sensor_number = info[0]\n",
    "    sensor_description = info[1]\n",
    "    sensor_units = info[2]\n",
    "    incompatible_sensors = info[3]\n",
    "    print(\"sensor number = \", sensor_number)\n",
    "    print(\"sensor description = \", sensor_description)\n",
    "    print(\"sensor units = \", sensor_units)\n",
    "    print(\"incompatible sensors = \", incompatible_sensors)\n",
    "    print()"
   ]
  },
  {
   "cell_type": "code",
   "execution_count": 57,
   "metadata": {},
   "outputs": [
    {
     "data": {
      "image/png": "[encoded data removed]",
      "text/plain": [
       "<Figure size 640x480 with 1 Axes>"
      ]
     },
     "metadata": {},
     "output_type": "display_data"
    }
   ],
   "source": [
    "import time\n",
    "import matplotlib.pyplot as plt\n",
    "\n",
    "from gdx import (\n",
    "    gdx,\n",
    ")  # The gdx function calls are from a gdx.py file inside the gdx folder, which must be with this program.\n",
    "\n",
    "gdx = gdx.gdx()\n",
    "\n",
    "\n",
    "fig, ax = plt.subplots()\n",
    "\n",
    "# CHANGE TO MATCH YOUR EXPERIMENT\n",
    "time_between_readings_in_seconds = 0.5\n",
    "number_of_readings = 20\n",
    "digits_of_precision = 2\n",
    "\n",
    "gdx.open(connection=\"usb\")  # Use connection='ble' for a Bluetooth connection\n",
    "# gdx.open(connection='usb', device_to_open='GDX-FOR 071000U9')  # You can also use an argument to specify the device"
   ]
  },
  {
   "cell_type": "code",
   "execution_count": 58,
   "metadata": {},
   "outputs": [
    {
     "name": "stdout",
     "output_type": "stream",
     "text": [
      "\n",
      "\n",
      "List of sensors for GDX-RB 0K5009F0 USB \n",
      "1: Force (N)\n",
      "2: Respiration Rate (bpm)\n",
      "4: Steps (steps)\n",
      "5: Step Rate (spm)\n",
      "\n",
      "\n",
      "- If connecting a single sensor, type the number (e.g., 1) that\n",
      "corresponds with the sensor, and then press 'enter'.\n",
      "- If connecting multiple sensors, type in each number\n",
      "separated with commas with no spaces(e.g., 1,2), and then \n",
      "click 'enter': "
     ]
    }
   ],
   "source": [
    "gdx.select_sensors()  # You will be asked to select the sensors to be used. You can select up to three.\n",
    "# gdx.select_sensors([1]) # You can also use an argument to select sensors. Separate multiple sensors with a comma, ([1,3])"
   ]
  },
  {
   "cell_type": "code",
   "execution_count": 59,
   "metadata": {},
   "outputs": [],
   "source": [
    "# This gets the name and units of the sensors selected.\n",
    "column_headers = gdx.enabled_sensor_info()"
   ]
  },
  {
   "cell_type": "code",
   "execution_count": 60,
   "metadata": {},
   "outputs": [],
   "source": [
    "# Store the number of sensors. This variable is used in plot_graph() and print_table()\n",
    "number_of_sensors = len(column_headers)"
   ]
  },
  {
   "cell_type": "code",
   "execution_count": 61,
   "metadata": {},
   "outputs": [],
   "source": [
    "unit_list = []\n",
    "units = \"\"\n",
    "for headers in column_headers:\n",
    "    units = str(headers[headers.find(\"(\") : headers.find(\")\") + 1])\n",
    "    unit_list.append(units)"
   ]
  },
  {
   "cell_type": "code",
   "execution_count": 62,
   "metadata": {},
   "outputs": [],
   "source": [
    "# Save the column_headers as a string, to be used in the title of the graph\n",
    "column_headers_string = str(column_headers)\n",
    "column_headers_string = column_headers_string.replace(\"'\", \"\")\n",
    "column_headers_string = column_headers_string.replace(\"[\", \"\")\n",
    "column_headers_string = column_headers_string.replace(\"]\", \"\")"
   ]
  },
  {
   "cell_type": "code",
   "execution_count": 63,
   "metadata": {},
   "outputs": [],
   "source": [
    "# Variables to store the time and readings from the sensors\n",
    "sensor_times = []\n",
    "sensor_readings0 = []\n",
    "sensor_readings1 = []\n",
    "sensor_readings2 = []\n",
    "print_table_string = []"
   ]
  },
  {
   "cell_type": "code",
   "execution_count": 65,
   "metadata": {},
   "outputs": [],
   "source": [
    "plt.pause(1)"
   ]
  },
  {
   "cell_type": "code",
   "execution_count": 66,
   "metadata": {},
   "outputs": [],
   "source": [
    "period_in_ms = time_between_readings_in_seconds * 1000"
   ]
  },
  {
   "cell_type": "code",
   "execution_count": 67,
   "metadata": {},
   "outputs": [],
   "source": [
    "# Start data collection at the specified rate. The period argument is in milliseconds\n",
    "gdx.start(period_in_ms)"
   ]
  },
  {
   "cell_type": "code",
   "execution_count": 68,
   "metadata": {},
   "outputs": [],
   "source": [
    "def plot_graph():\n",
    "\n",
    "    # Customize the graph See Pyplot documentation\n",
    "    ax.plot(\n",
    "        sensor_times, sensor_readings0, color=\"r\", label=column_headers[0]\n",
    "    )  # red line for sensor 1\n",
    "\n",
    "    # sensor_times and sensor_readings are variables storing the time and measurements from the data collection loop.\n",
    "    if number_of_sensors > 1:\n",
    "        ax.plot(\n",
    "            sensor_times, sensor_readings1, color=\"b\", label=column_headers[1]\n",
    "        )  # blue line for sensor 2\n",
    "    if number_of_sensors > 2:\n",
    "        ax.plot(\n",
    "            sensor_times, sensor_readings2, color=\"k\", label=column_headers[2]\n",
    "        )  # black line for sensor 3\n",
    "\n",
    "    plt.ylabel(column_headers_string)  # name and units of the sensor selected#\n",
    "    plt.xlabel(\"Time(s)\")\n",
    "    plt.grid(True)  # This controls whether there is a grid on the graph\n",
    "    plt.pause(0.05)  # display the graph briefly, as the readings are taken"
   ]
  },
  {
   "cell_type": "code",
   "execution_count": 69,
   "metadata": {},
   "outputs": [],
   "source": [
    "def print_table():\n",
    "    print(\"Data Table:\")\n",
    "    print(\n",
    "        \"Time (s) \", column_headers_string\n",
    "    )  # label the data table that will be printed on the Python Shell\n",
    "\n",
    "    # The print_table_string is a list of strings. Each element in the list contains the time and readings.\n",
    "    # This variable is created in the Data Collection loop.\n",
    "    for string in print_table_string:\n",
    "        print(string)"
   ]
  },
  {
   "cell_type": "code",
   "execution_count": 73,
   "metadata": {},
   "outputs": [
    {
     "name": "stdout",
     "output_type": "stream",
     "text": [
      "Collecting Data...\n",
      "Time(s), Force (N)\n"
     ]
    },
    {
     "ename": "IndexError",
     "evalue": "pop from empty list",
     "output_type": "error",
     "traceback": [
      "\u001b[1;31m---------------------------------------------------------------------------\u001b[0m",
      "\u001b[1;31mIndexError\u001b[0m                                Traceback (most recent call last)",
      "Cell \u001b[1;32mIn[73], line 15\u001b[0m\n\u001b[0;32m     12\u001b[0m sensor_times\u001b[38;5;241m.\u001b[39mappend(time_elapsed)\n\u001b[0;32m     14\u001b[0m \u001b[38;5;66;03m# Read sensor data\u001b[39;00m\n\u001b[1;32m---> 15\u001b[0m measurements \u001b[38;5;241m=\u001b[39m \u001b[43mgdx\u001b[49m\u001b[38;5;241;43m.\u001b[39;49m\u001b[43mread\u001b[49m\u001b[43m(\u001b[49m\u001b[43m)\u001b[49m\n\u001b[0;32m     16\u001b[0m \u001b[38;5;28;01mif\u001b[39;00m measurements \u001b[38;5;129;01mis\u001b[39;00m \u001b[38;5;28;01mNone\u001b[39;00m \u001b[38;5;129;01mor\u001b[39;00m \u001b[38;5;28mlen\u001b[39m(measurements) \u001b[38;5;241m==\u001b[39m \u001b[38;5;241m0\u001b[39m:\n\u001b[0;32m     17\u001b[0m     \u001b[38;5;28mprint\u001b[39m(\u001b[38;5;124m\"\u001b[39m\u001b[38;5;124mNo data received from sensors. Stopping collection.\u001b[39m\u001b[38;5;124m\"\u001b[39m)\n",
      "File \u001b[1;32md:\\USER-DATA\\Desktop\\GDX\\godirect-examples-main\\python\\gdx\\gdx.py:580\u001b[0m, in \u001b[0;36mgdx.read\u001b[1;34m(self)\u001b[0m\n\u001b[0;32m    578\u001b[0m values[:] \u001b[38;5;241m=\u001b[39m sensor\u001b[38;5;241m.\u001b[39mvalues\n\u001b[0;32m    579\u001b[0m \u001b[38;5;66;03m# Pull the first value off the values list\u001b[39;00m\n\u001b[1;32m--> 580\u001b[0m pop_values \u001b[38;5;241m=\u001b[39m values\u001b[38;5;241m.\u001b[39mpop(\u001b[38;5;241m0\u001b[39m)\n\u001b[0;32m    581\u001b[0m \u001b[38;5;66;03m# Build a list of each sensors' first value (this builds the return list)\u001b[39;00m\n\u001b[0;32m    582\u001b[0m retvalues\u001b[38;5;241m.\u001b[39mappend(pop_values)\n",
      "\u001b[1;31mIndexError\u001b[0m: pop from empty list"
     ]
    }
   ],
   "source": [
    "collection_complete = False\n",
    "while not collection_complete:\n",
    "    try:\n",
    "        time_elapsed = 0\n",
    "        print(\"Collecting Data...\")\n",
    "\n",
    "        # Print the column headers\n",
    "        print(\"Time(s), \" + column_headers_string)\n",
    "\n",
    "        for i in range(0, number_of_readings):\n",
    "            # Create a list of times\n",
    "            sensor_times.append(time_elapsed)\n",
    "\n",
    "            # Read sensor data\n",
    "            measurements = gdx.read()\n",
    "            if measurements is None or len(measurements) == 0:\n",
    "                print(\"No data received from sensors. Stopping collection.\")\n",
    "                collection_complete = True\n",
    "                break\n",
    "\n",
    "            # Process and store data\n",
    "            d = 0\n",
    "            data_string = \"\"\n",
    "            for data in measurements:\n",
    "                if d == 0:\n",
    "                    sensor_readings0.append(data)\n",
    "                elif d == 1:\n",
    "                    sensor_readings1.append(data)\n",
    "                elif d == 2:\n",
    "                    sensor_readings2.append(data)\n",
    "\n",
    "                round_data = str(round(data, digits_of_precision))\n",
    "                data_string += round_data + \"   \"\n",
    "                d += 1\n",
    "\n",
    "            # Print the data\n",
    "            print(f\"{round(time_elapsed, 2)}   {data_string}\")\n",
    "\n",
    "            # Update the time variable\n",
    "            time_elapsed += time_between_readings_in_seconds\n",
    "\n",
    "        print(\"Data collection complete\")\n",
    "        print(\"Number of readings:\", i + 1)\n",
    "        print(\"Time between readings:\", time_between_readings_in_seconds, \"s\")\n",
    "        print(\"Total time for data collection:\", time_elapsed, \"s\")\n",
    "\n",
    "        # Stop and disconnect\n",
    "        gdx.stop()\n",
    "        gdx.close()\n",
    "\n",
    "    except KeyboardInterrupt:\n",
    "        collection_complete = True\n",
    "        gdx.stop()\n",
    "        gdx.close()\n",
    "        print(\"Data collection stopped by keypress.\")\n",
    "        print(\"Number of readings:\", i + 1)"
   ]
  },
  {
   "cell_type": "code",
   "execution_count": 1,
   "metadata": {},
   "outputs": [
    {
     "name": "stdout",
     "output_type": "stream",
     "text": [
      "Connected to GDX-RB 0K5009F0\n",
      "Enabled sensors: ['Force']\n"
     ]
    }
   ],
   "source": [
    "from godirect import GoDirect\n",
    "\n",
    "# Initialize GoDirect\n",
    "godirect = GoDirect()\n",
    "\n",
    "# Get the device\n",
    "device = godirect.get_device()\n",
    "\n",
    "if device is not None and device.open(auto_start=True):\n",
    "    # 센서 ID를 가져오고 활성화\n",
    "    sensor_ids = device.sensors  # 사용 가능한 센서 ID 가져오기\n",
    "    device.enable_sensors(sensor_ids)  # 모든 센서 활성화\n",
    "\n",
    "    # 활성화된 센서 가져오기\n",
    "    sensors = device.get_enabled_sensors()\n",
    "    print(\"Connected to \" + device.name)\n",
    "    print(\"Enabled sensors:\", [sensor.sensor_description for sensor in sensors])"
   ]
  },
  {
   "cell_type": "code",
   "execution_count": 2,
   "metadata": {},
   "outputs": [
    {
     "ename": "NameError",
     "evalue": "name 'gdx' is not defined",
     "output_type": "error",
     "traceback": [
      "\u001b[1;31m---------------------------------------------------------------------------\u001b[0m",
      "\u001b[1;31mNameError\u001b[0m                                 Traceback (most recent call last)",
      "Cell \u001b[1;32mIn[2], line 2\u001b[0m\n\u001b[0;32m      1\u001b[0m \u001b[38;5;66;03m# 측정하고 싶은 센서와 샘플릭 속도 선택 #1번센서가 Force, 명상호흡데이터라서 샘플링 속도 500 설정\u001b[39;00m\n\u001b[1;32m----> 2\u001b[0m \u001b[43mgdx\u001b[49m\u001b[38;5;241m.\u001b[39mselect_sensors()\n\u001b[0;32m      3\u001b[0m gdx\u001b[38;5;241m.\u001b[39mstart()\n\u001b[0;32m      4\u001b[0m column_headers \u001b[38;5;241m=\u001b[39m gdx\u001b[38;5;241m.\u001b[39menabled_sensor_info()\n",
      "\u001b[1;31mNameError\u001b[0m: name 'gdx' is not defined"
     ]
    }
   ],
   "source": [
    "# 측정하고 싶은 센서와 샘플릭 속도 선택 #1번센서가 Force, 명상호흡데이터라서 샘플링 속도 500 설정\n",
    "gdx.select_sensors()\n",
    "gdx.start()\n",
    "column_headers = gdx.enabled_sensor_info()\n",
    "print(\"\\n\")\n",
    "print(column_headers)"
   ]
  },
  {
   "cell_type": "code",
   "execution_count": null,
   "metadata": {},
   "outputs": [],
   "source": [
    "from godirect import GoDirect\n",
    "import time\n",
    "import matplotlib.pyplot as plt\n",
    "from matplotlib.animation import FuncAnimation\n",
    "import threading\n",
    "import queue"
   ]
  },
  {
   "cell_type": "code",
   "execution_count": null,
   "metadata": {},
   "outputs": [],
   "source": [
    "# Step 1: 실시간 데이터를 저장할 큐 생성\n",
    "data_queue = queue.Queue()"
   ]
  },
  {
   "cell_type": "code",
   "execution_count": null,
   "metadata": {},
   "outputs": [],
   "source": [
    "# Step 2: GoDirect 초기화\n",
    "godirect = GoDirect()"
   ]
  },
  {
   "cell_type": "code",
   "execution_count": null,
   "metadata": {},
   "outputs": [],
   "source": [
    "# Step 3: 장치 연결\n",
    "device = godirect.get_device()"
   ]
  },
  {
   "cell_type": "code",
   "execution_count": null,
   "metadata": {},
   "outputs": [],
   "source": [
    "if device is not None and device.open(auto_start=True):\n",
    "    sensors = device.get_enabled_sensors()\n",
    "    print(\"Connected to \" + device.name)\n",
    "    print(\"Collecting data for 300 seconds...\")\n",
    "\n",
    "    # 실시간 데이터를 읽어오는 쓰레드\n",
    "    def collect_data():\n",
    "        start_time = time.time()\n",
    "        duration = 300  # 수집 시간 (초)\n",
    "        while time.time() - start_time < duration:\n",
    "            if device.read():\n",
    "                for sensor in sensors:\n",
    "                    if sensor.sensor_description == \"Force\":  # Force 데이터만 사용\n",
    "                        force_value = sensor.values[0]  # 첫 번째 값을 가져옴\n",
    "                        data_queue.put(force_value)  # 큐에 추가\n",
    "                        print(f\"Force: {force_value}\")  # 콘솔 출력\n",
    "                    sensor.clear()\n",
    "            time.sleep(0.1)  # CPU 부하 줄이기\n",
    "        device.stop()\n",
    "        device.close()\n",
    "        godirect.quit()\n",
    "\n",
    "    # Step 4: 실시간 시각화 설정\n",
    "    x_data, y_data = [], []\n",
    "\n",
    "    def update(frame):\n",
    "        while not data_queue.empty():  # 큐에서 새 데이터를 가져옴\n",
    "            new_data = data_queue.get()\n",
    "            x_data.append(time.time())  # 시간 데이터를 x축으로 사용\n",
    "            y_data.append(new_data)  # Force 데이터를 y축으로 사용\n",
    "\n",
    "            # 최신 100개의 데이터만 유지 (화면 깔끔하게 유지)\n",
    "            if len(x_data) > 100:\n",
    "                x_data.pop(0)\n",
    "                y_data.pop(0)\n",
    "\n",
    "        line.set_data(range(len(y_data)), y_data)  # x_data 대신 index 사용\n",
    "        ax.relim()  # 축 재설정\n",
    "        ax.autoscale_view()  # 축 자동 스케일링\n",
    "        return (line,)\n",
    "\n",
    "    # Matplotlib 그래프 설정\n",
    "    fig, ax = plt.subplots()\n",
    "    (line,) = ax.plot([], [], lw=2, label=\"Force (N)\")  # 그래프 라벨\n",
    "    ax.legend()\n",
    "    ax.set_title(\"Real-Time Force Data\")  # 그래프 제목\n",
    "    ax.set_xlabel(\"Sample Index\")  # x축 라벨\n",
    "    ax.set_ylabel(\"Force (N)\")  # y축 라벨\n",
    "\n",
    "    # Step 5: 쓰레드 시작\n",
    "    thread = threading.Thread(target=collect_data, daemon=True)\n",
    "    thread.start()\n",
    "\n",
    "    # Step 6: Matplotlib 애니메이션 시작\n",
    "    ani = FuncAnimation(fig, update, blit=False, interval=100, cache_frame_data=False)\n",
    "    plt.show()\n",
    "\n",
    "else:\n",
    "    print(\"Device connection failed.\")"
   ]
  },
  {
   "cell_type": "code",
   "execution_count": null,
   "metadata": {},
   "outputs": [],
   "source": [
    "from godirect import GoDirect\n",
    "import time\n",
    "\n",
    "# Initialize GoDirect\n",
    "godirect = GoDirect()\n",
    "\n",
    "# Get the device\n",
    "device = godirect.get_device()\n",
    "\n",
    "if device is not None and device.open(auto_start=True):\n",
    "    # 모든 센서 활성화\n",
    "    for sensor in device.sensors:\n",
    "        sensor.enable()\n",
    "\n",
    "    sensors = device.get_enabled_sensors()\n",
    "    print(\"Connected to \" + device.name)\n",
    "    print(\"Enabled sensors:\", [sensor.sensor_description for sensor in sensors])\n",
    "\n",
    "    # Start time\n",
    "    start_time = time.time()\n",
    "    duration = 300  # seconds\n",
    "\n",
    "    # Collect data for 300 seconds\n",
    "    while time.time() - start_time < duration:\n",
    "        if device.read():\n",
    "            for sensor in sensors:\n",
    "                if len(sensor.values) > 0:  # 데이터가 있는 센서만 출력\n",
    "                    print(sensor.sensor_description + \": \" + str(sensor.values))\n",
    "                else:\n",
    "                    print(sensor.sensor_description + \": No data\")\n",
    "                sensor.clear()\n",
    "        time.sleep(0.1)  # Optional: Reduce CPU usage by adding a small delay\n",
    "\n",
    "    # Stop and close the device\n",
    "    device.stop()\n",
    "    device.close()\n",
    "\n",
    "# Quit GoDirect\n",
    "godirect.quit()"
   ]
  },
  {
   "cell_type": "code",
   "execution_count": null,
   "metadata": {},
   "outputs": [],
   "source": [
    "from godirect import GoDirect\n",
    "import time\n",
    "import csv\n",
    "\n",
    "# Initialize GoDirect\n",
    "godirect = GoDirect()\n",
    "\n",
    "# Get the device\n",
    "device = godirect.get_device()\n",
    "\n",
    "if device is not None and device.open(auto_start=True):\n",
    "    sensors = device.get_enabled_sensors()\n",
    "    print(\"Connected to \" + device.name)\n",
    "    print(\"Collecting data for 300 seconds...\")\n",
    "\n",
    "    # Start time\n",
    "    start_time = time.time()\n",
    "    duration = 300  # seconds\n",
    "\n",
    "    # CSV 파일 열기\n",
    "    with open(\"force_data.csv\", mode=\"w\", newline=\"\") as csv_file:\n",
    "        csv_writer = csv.writer(csv_file)\n",
    "\n",
    "        # 헤더 작성\n",
    "        csv_writer.writerow([\"Timestamp\", \"Sensor Description\", \"Value\"])\n",
    "\n",
    "        # Collect data for the specified duration\n",
    "        while time.time() - start_time < duration:\n",
    "            if device.read():\n",
    "                for sensor in sensors:\n",
    "                    timestamp = time.time()  # 현재 시간 (Unix 타임스탬프)\n",
    "                    sensor_description = sensor.sensor_description\n",
    "                    values = sensor.values  # Force 데이터\n",
    "\n",
    "                    # 데이터가 있으면 파일에 기록\n",
    "                    if values:\n",
    "                        csv_writer.writerow([timestamp, sensor_description, values[0]])\n",
    "                        print(f\"{sensor_description}: {values[0]}\")  # 콘솔 출력\n",
    "\n",
    "                    sensor.clear()  # 버퍼 정리\n",
    "            time.sleep(0.1)  # CPU 부하 줄이기\n",
    "\n",
    "    # Stop and close the device\n",
    "    device.stop()\n",
    "    device.close()\n",
    "\n",
    "# Quit GoDirect\n",
    "godirect.quit()"
   ]
  },
  {
   "cell_type": "code",
   "execution_count": null,
   "metadata": {},
   "outputs": [],
   "source": []
  }
 ],
 "metadata": {
  "kernelspec": {
   "display_name": "Python (pyenv_env)",
   "language": "python",
   "name": "pyenv_env"
  },
  "language_info": {
   "codemirror_mode": {
    "name": "ipython",
    "version": 3
   },
   "file_extension": ".py",
   "mimetype": "text/x-python",
   "name": "python",
   "nbconvert_exporter": "python",
   "pygments_lexer": "ipython3",
   "version": "3.11.9"
  }
 },
 "nbformat": 4,
 "nbformat_minor": 2
}
